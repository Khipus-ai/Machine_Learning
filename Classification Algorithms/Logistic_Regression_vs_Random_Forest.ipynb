{
 "cells": [
  {
   "cell_type": "markdown",
   "id": "317458ba",
   "metadata": {},
   "source": [
    "# Khipus.ai\n",
    "## Introduction to Machine Learning\n",
    "### Classification\n",
    "### Logistic Regression vs Random Forest\n",
    "### Case Study: Bank loans Approval \n",
    "<span>© Copyright Notice 2025, Khipus.ai - All Rights Reserved.</span>\n"
   ]
  },
  {
   "cell_type": "markdown",
   "id": "84f3c703",
   "metadata": {},
   "source": [
    "### About Dataset\n",
    "This dataset contains various demographic and financial features that could be used to build a classification model for predicting loan approval or denial. The loan_status column serves as the target variable for the classification task.\n",
    "\n",
    "Source: https://www.kaggle.com/datasets/sujithmandala/simple-loan-classification-dataset"
   ]
  },
  {
   "cell_type": "markdown",
   "id": "2414d2ee",
   "metadata": {},
   "source": [
    "## Data Exploration\n",
    "In this section, we will explore the dataset to understand its structure, identify missing values, and gain insights into the features."
   ]
  },
  {
   "cell_type": "code",
   "execution_count": 16,
   "id": "2f29e1de",
   "metadata": {},
   "outputs": [],
   "source": [
    "\n",
    "# Import necessary libraries\n",
    "import pandas as pd\n",
    "import matplotlib.pyplot as plt\n",
    "import seaborn as sns\n",
    "\n",
    "from sklearn.model_selection import train_test_split\n",
    "\n"
   ]
  },
  {
   "cell_type": "code",
   "execution_count": 17,
   "id": "efa3d1a5",
   "metadata": {},
   "outputs": [
    {
     "data": {
      "text/html": [
       "<div>\n",
       "<style scoped>\n",
       "    .dataframe tbody tr th:only-of-type {\n",
       "        vertical-align: middle;\n",
       "    }\n",
       "\n",
       "    .dataframe tbody tr th {\n",
       "        vertical-align: top;\n",
       "    }\n",
       "\n",
       "    .dataframe thead th {\n",
       "        text-align: right;\n",
       "    }\n",
       "</style>\n",
       "<table border=\"1\" class=\"dataframe\">\n",
       "  <thead>\n",
       "    <tr style=\"text-align: right;\">\n",
       "      <th></th>\n",
       "      <th>age</th>\n",
       "      <th>gender</th>\n",
       "      <th>occupation</th>\n",
       "      <th>education_level</th>\n",
       "      <th>marital_status</th>\n",
       "      <th>income</th>\n",
       "      <th>credit_score</th>\n",
       "      <th>loan_status</th>\n",
       "    </tr>\n",
       "  </thead>\n",
       "  <tbody>\n",
       "    <tr>\n",
       "      <th>0</th>\n",
       "      <td>32</td>\n",
       "      <td>Male</td>\n",
       "      <td>Engineer</td>\n",
       "      <td>Bachelor's</td>\n",
       "      <td>Married</td>\n",
       "      <td>85000</td>\n",
       "      <td>720</td>\n",
       "      <td>Approved</td>\n",
       "    </tr>\n",
       "    <tr>\n",
       "      <th>1</th>\n",
       "      <td>45</td>\n",
       "      <td>Female</td>\n",
       "      <td>Teacher</td>\n",
       "      <td>Master's</td>\n",
       "      <td>Single</td>\n",
       "      <td>62000</td>\n",
       "      <td>680</td>\n",
       "      <td>Approved</td>\n",
       "    </tr>\n",
       "    <tr>\n",
       "      <th>2</th>\n",
       "      <td>28</td>\n",
       "      <td>Male</td>\n",
       "      <td>Student</td>\n",
       "      <td>High School</td>\n",
       "      <td>Single</td>\n",
       "      <td>25000</td>\n",
       "      <td>590</td>\n",
       "      <td>Denied</td>\n",
       "    </tr>\n",
       "    <tr>\n",
       "      <th>3</th>\n",
       "      <td>51</td>\n",
       "      <td>Female</td>\n",
       "      <td>Manager</td>\n",
       "      <td>Bachelor's</td>\n",
       "      <td>Married</td>\n",
       "      <td>105000</td>\n",
       "      <td>780</td>\n",
       "      <td>Approved</td>\n",
       "    </tr>\n",
       "    <tr>\n",
       "      <th>4</th>\n",
       "      <td>36</td>\n",
       "      <td>Male</td>\n",
       "      <td>Accountant</td>\n",
       "      <td>Bachelor's</td>\n",
       "      <td>Married</td>\n",
       "      <td>75000</td>\n",
       "      <td>710</td>\n",
       "      <td>Approved</td>\n",
       "    </tr>\n",
       "  </tbody>\n",
       "</table>\n",
       "</div>"
      ],
      "text/plain": [
       "   age  gender  occupation education_level marital_status  income  \\\n",
       "0   32    Male    Engineer      Bachelor's        Married   85000   \n",
       "1   45  Female     Teacher        Master's         Single   62000   \n",
       "2   28    Male     Student     High School         Single   25000   \n",
       "3   51  Female     Manager      Bachelor's        Married  105000   \n",
       "4   36    Male  Accountant      Bachelor's        Married   75000   \n",
       "\n",
       "   credit_score loan_status  \n",
       "0           720    Approved  \n",
       "1           680    Approved  \n",
       "2           590      Denied  \n",
       "3           780    Approved  \n",
       "4           710    Approved  "
      ]
     },
     "execution_count": 17,
     "metadata": {},
     "output_type": "execute_result"
    }
   ],
   "source": [
    "# Load the dataset\n",
    "file_path = 'loan.csv'\n",
    "loan_data = pd.read_csv(file_path)\n",
    "\n",
    "# Display the first few rows of the dataset\n",
    "loan_data.head()"
   ]
  },
  {
   "cell_type": "markdown",
   "id": "85d55952",
   "metadata": {},
   "source": [
    "## Data Cleaning\n",
    "Here, we clean the data by handling missing values and encoding categorical variables."
   ]
  },
  {
   "cell_type": "code",
   "execution_count": 18,
   "id": "b2ba84c7",
   "metadata": {},
   "outputs": [
    {
     "name": "stdout",
     "output_type": "stream",
     "text": [
      "Missing values in each column:\n",
      "age                0\n",
      "gender             0\n",
      "occupation         0\n",
      "education_level    0\n",
      "marital_status     0\n",
      "income             0\n",
      "credit_score       0\n",
      "loan_status        0\n",
      "dtype: int64\n"
     ]
    },
    {
     "data": {
      "text/html": [
       "<div>\n",
       "<style scoped>\n",
       "    .dataframe tbody tr th:only-of-type {\n",
       "        vertical-align: middle;\n",
       "    }\n",
       "\n",
       "    .dataframe tbody tr th {\n",
       "        vertical-align: top;\n",
       "    }\n",
       "\n",
       "    .dataframe thead th {\n",
       "        text-align: right;\n",
       "    }\n",
       "</style>\n",
       "<table border=\"1\" class=\"dataframe\">\n",
       "  <thead>\n",
       "    <tr style=\"text-align: right;\">\n",
       "      <th></th>\n",
       "      <th>age</th>\n",
       "      <th>income</th>\n",
       "      <th>credit_score</th>\n",
       "      <th>gender_Male</th>\n",
       "      <th>occupation_Analyst</th>\n",
       "      <th>occupation_Architect</th>\n",
       "      <th>occupation_Artist</th>\n",
       "      <th>occupation_Banker</th>\n",
       "      <th>occupation_Chef</th>\n",
       "      <th>occupation_Consultant</th>\n",
       "      <th>...</th>\n",
       "      <th>occupation_Stylist</th>\n",
       "      <th>occupation_Teacher</th>\n",
       "      <th>occupation_Veterinarian</th>\n",
       "      <th>occupation_Writer</th>\n",
       "      <th>education_level_Bachelor's</th>\n",
       "      <th>education_level_Doctoral</th>\n",
       "      <th>education_level_High School</th>\n",
       "      <th>education_level_Master's</th>\n",
       "      <th>marital_status_Single</th>\n",
       "      <th>loan_status_Denied</th>\n",
       "    </tr>\n",
       "  </thead>\n",
       "  <tbody>\n",
       "    <tr>\n",
       "      <th>0</th>\n",
       "      <td>32</td>\n",
       "      <td>85000</td>\n",
       "      <td>720</td>\n",
       "      <td>True</td>\n",
       "      <td>False</td>\n",
       "      <td>False</td>\n",
       "      <td>False</td>\n",
       "      <td>False</td>\n",
       "      <td>False</td>\n",
       "      <td>False</td>\n",
       "      <td>...</td>\n",
       "      <td>False</td>\n",
       "      <td>False</td>\n",
       "      <td>False</td>\n",
       "      <td>False</td>\n",
       "      <td>True</td>\n",
       "      <td>False</td>\n",
       "      <td>False</td>\n",
       "      <td>False</td>\n",
       "      <td>False</td>\n",
       "      <td>False</td>\n",
       "    </tr>\n",
       "    <tr>\n",
       "      <th>1</th>\n",
       "      <td>45</td>\n",
       "      <td>62000</td>\n",
       "      <td>680</td>\n",
       "      <td>False</td>\n",
       "      <td>False</td>\n",
       "      <td>False</td>\n",
       "      <td>False</td>\n",
       "      <td>False</td>\n",
       "      <td>False</td>\n",
       "      <td>False</td>\n",
       "      <td>...</td>\n",
       "      <td>False</td>\n",
       "      <td>True</td>\n",
       "      <td>False</td>\n",
       "      <td>False</td>\n",
       "      <td>False</td>\n",
       "      <td>False</td>\n",
       "      <td>False</td>\n",
       "      <td>True</td>\n",
       "      <td>True</td>\n",
       "      <td>False</td>\n",
       "    </tr>\n",
       "    <tr>\n",
       "      <th>2</th>\n",
       "      <td>28</td>\n",
       "      <td>25000</td>\n",
       "      <td>590</td>\n",
       "      <td>True</td>\n",
       "      <td>False</td>\n",
       "      <td>False</td>\n",
       "      <td>False</td>\n",
       "      <td>False</td>\n",
       "      <td>False</td>\n",
       "      <td>False</td>\n",
       "      <td>...</td>\n",
       "      <td>False</td>\n",
       "      <td>False</td>\n",
       "      <td>False</td>\n",
       "      <td>False</td>\n",
       "      <td>False</td>\n",
       "      <td>False</td>\n",
       "      <td>True</td>\n",
       "      <td>False</td>\n",
       "      <td>True</td>\n",
       "      <td>True</td>\n",
       "    </tr>\n",
       "    <tr>\n",
       "      <th>3</th>\n",
       "      <td>51</td>\n",
       "      <td>105000</td>\n",
       "      <td>780</td>\n",
       "      <td>False</td>\n",
       "      <td>False</td>\n",
       "      <td>False</td>\n",
       "      <td>False</td>\n",
       "      <td>False</td>\n",
       "      <td>False</td>\n",
       "      <td>False</td>\n",
       "      <td>...</td>\n",
       "      <td>False</td>\n",
       "      <td>False</td>\n",
       "      <td>False</td>\n",
       "      <td>False</td>\n",
       "      <td>True</td>\n",
       "      <td>False</td>\n",
       "      <td>False</td>\n",
       "      <td>False</td>\n",
       "      <td>False</td>\n",
       "      <td>False</td>\n",
       "    </tr>\n",
       "    <tr>\n",
       "      <th>4</th>\n",
       "      <td>36</td>\n",
       "      <td>75000</td>\n",
       "      <td>710</td>\n",
       "      <td>True</td>\n",
       "      <td>False</td>\n",
       "      <td>False</td>\n",
       "      <td>False</td>\n",
       "      <td>False</td>\n",
       "      <td>False</td>\n",
       "      <td>False</td>\n",
       "      <td>...</td>\n",
       "      <td>False</td>\n",
       "      <td>False</td>\n",
       "      <td>False</td>\n",
       "      <td>False</td>\n",
       "      <td>True</td>\n",
       "      <td>False</td>\n",
       "      <td>False</td>\n",
       "      <td>False</td>\n",
       "      <td>False</td>\n",
       "      <td>False</td>\n",
       "    </tr>\n",
       "  </tbody>\n",
       "</table>\n",
       "<p>5 rows × 47 columns</p>\n",
       "</div>"
      ],
      "text/plain": [
       "   age  income  credit_score  gender_Male  occupation_Analyst  \\\n",
       "0   32   85000           720         True               False   \n",
       "1   45   62000           680        False               False   \n",
       "2   28   25000           590         True               False   \n",
       "3   51  105000           780        False               False   \n",
       "4   36   75000           710         True               False   \n",
       "\n",
       "   occupation_Architect  occupation_Artist  occupation_Banker  \\\n",
       "0                 False              False              False   \n",
       "1                 False              False              False   \n",
       "2                 False              False              False   \n",
       "3                 False              False              False   \n",
       "4                 False              False              False   \n",
       "\n",
       "   occupation_Chef  occupation_Consultant  ...  occupation_Stylist  \\\n",
       "0            False                  False  ...               False   \n",
       "1            False                  False  ...               False   \n",
       "2            False                  False  ...               False   \n",
       "3            False                  False  ...               False   \n",
       "4            False                  False  ...               False   \n",
       "\n",
       "   occupation_Teacher  occupation_Veterinarian  occupation_Writer  \\\n",
       "0               False                    False              False   \n",
       "1                True                    False              False   \n",
       "2               False                    False              False   \n",
       "3               False                    False              False   \n",
       "4               False                    False              False   \n",
       "\n",
       "   education_level_Bachelor's  education_level_Doctoral  \\\n",
       "0                        True                     False   \n",
       "1                       False                     False   \n",
       "2                       False                     False   \n",
       "3                        True                     False   \n",
       "4                        True                     False   \n",
       "\n",
       "   education_level_High School  education_level_Master's  \\\n",
       "0                        False                     False   \n",
       "1                        False                      True   \n",
       "2                         True                     False   \n",
       "3                        False                     False   \n",
       "4                        False                     False   \n",
       "\n",
       "   marital_status_Single  loan_status_Denied  \n",
       "0                  False               False  \n",
       "1                   True               False  \n",
       "2                   True                True  \n",
       "3                  False               False  \n",
       "4                  False               False  \n",
       "\n",
       "[5 rows x 47 columns]"
      ]
     },
     "execution_count": 18,
     "metadata": {},
     "output_type": "execute_result"
    }
   ],
   "source": [
    "\n",
    "# Check for missing values\n",
    "print(\"Missing values in each column:\")\n",
    "print(loan_data.isnull().sum())\n",
    "\n",
    "# Encode categorical variables\n",
    "loan_data_encoded = pd.get_dummies(loan_data, drop_first=True)\n",
    "\n",
    "# Display the cleaned dataset\n",
    "loan_data_encoded.head()\n"
   ]
  },
  {
   "cell_type": "markdown",
   "id": "9e8d5acb",
   "metadata": {},
   "source": [
    "## Feature Selection and Splitting Training and Test Data\n",
    "We'll select relevant features and split the dataset into training and test sets."
   ]
  },
  {
   "cell_type": "code",
   "execution_count": 19,
   "id": "255059d6",
   "metadata": {},
   "outputs": [
    {
     "data": {
      "text/plain": [
       "((48, 46), (13, 46), (48,), (13,))"
      ]
     },
     "execution_count": 19,
     "metadata": {},
     "output_type": "execute_result"
    }
   ],
   "source": [
    "\n",
    "# Define features (X) and target (y)\n",
    "X = loan_data_encoded.drop('loan_status_Denied', axis=1)\n",
    "y = loan_data_encoded['loan_status_Denied']\n",
    "\n",
    "# Split data into training and test sets\n",
    "X_train, X_test, y_train, y_test = train_test_split(X, y, test_size=0.2, random_state=42)\n",
    "\n",
    "# Check the shapes of the training and test sets\n",
    "X_train.shape, X_test.shape, y_train.shape, y_test.shape\n"
   ]
  },
  {
   "cell_type": "markdown",
   "id": "bb7b33e4",
   "metadata": {},
   "source": [
    "## Building the Logistic Regression Model\n",
    "We will use logistic regression to classify the loan status."
   ]
  },
  {
   "cell_type": "code",
   "execution_count": 20,
   "id": "6643994c",
   "metadata": {},
   "outputs": [
    {
     "name": "stdout",
     "output_type": "stream",
     "text": [
      "Model coefficients: [[-5.83146268e-02 -5.12041755e-03  4.17593395e-01 -2.38755484e-02\n",
      "   1.22896904e-08  1.38004808e-08 -4.88931046e-08  1.20326290e-08\n",
      "   3.78650535e-07  1.12125640e-08  0.00000000e+00  2.52514425e-02\n",
      "   2.42385678e-09  0.00000000e+00 -2.38759308e-02  2.22862822e-08\n",
      "   8.02833434e-09  1.78829247e-08  7.75562862e-09  1.12117132e-08\n",
      "   8.87095679e-09  0.00000000e+00  6.28118617e-07  3.85660876e-09\n",
      "  -4.98629081e-08  9.78674206e-09  6.82064421e-09  7.25323866e-09\n",
      "   5.31164505e-09  1.83247397e-08 -9.47038947e-08  1.14044621e-08\n",
      "   1.18384698e-08 -4.40619712e-08 -4.54340929e-08  8.87097739e-09\n",
      "  -4.45702294e-08 -5.05062924e-08  6.51431041e-07  1.07744036e-08\n",
      "  -4.41017273e-08  2.52514650e-02  3.69427871e-08 -2.38761595e-02\n",
      "   7.31812364e-07  1.37640366e-03]]\n",
      "Model intercept: [0.00220693]\n"
     ]
    }
   ],
   "source": [
    "# Import the LogisticRegression class\n",
    "from sklearn.linear_model import LogisticRegression\n",
    "\n",
    "# Create a logistic regression model\n",
    "model = LogisticRegression(max_iter=1000)# Increase the number of iterations\n",
    "\n",
    "# Train the model on the training data\n",
    "model.fit(X_train, y_train)\n",
    "\n",
    "# Display model coefficients\n",
    "print(\"Model coefficients:\", model.coef_)\n",
    "print(\"Model intercept:\", model.intercept_)\n"
   ]
  },
  {
   "cell_type": "markdown",
   "id": "852803bd",
   "metadata": {},
   "source": [
    "## Making Predictions\n",
    "Using the trained model, we will make predictions on the test data."
   ]
  },
  {
   "cell_type": "code",
   "execution_count": 21,
   "id": "a324131d",
   "metadata": {},
   "outputs": [
    {
     "data": {
      "text/plain": [
       "array([False,  True, False, False, False, False,  True,  True,  True,\n",
       "       False])"
      ]
     },
     "execution_count": 21,
     "metadata": {},
     "output_type": "execute_result"
    }
   ],
   "source": [
    "\n",
    "# Make predictions on the test set\n",
    "y_pred = model.predict(X_test)\n",
    "\n",
    "# Display predictions\n",
    "y_pred[:10]\n"
   ]
  },
  {
   "cell_type": "markdown",
   "id": "93fc58fe",
   "metadata": {},
   "source": [
    "## Evaluating the Model\n",
    "Evaluate the model's performance using metrics such as accuracy, precision, and recall."
   ]
  },
  {
   "cell_type": "code",
   "execution_count": 22,
   "id": "8ae41f2e",
   "metadata": {},
   "outputs": [
    {
     "name": "stdout",
     "output_type": "stream",
     "text": [
      "Accuracy: 1.00\n",
      "Classification Report:\n",
      "              precision    recall  f1-score   support\n",
      "\n",
      "       False       1.00      1.00      1.00         9\n",
      "        True       1.00      1.00      1.00         4\n",
      "\n",
      "    accuracy                           1.00        13\n",
      "   macro avg       1.00      1.00      1.00        13\n",
      "weighted avg       1.00      1.00      1.00        13\n",
      "\n"
     ]
    }
   ],
   "source": [
    "\n",
    "from sklearn.metrics import accuracy_score, classification_report\n",
    "\n",
    "# Calculate accuracy\n",
    "accuracy = accuracy_score(y_test, y_pred)\n",
    "print(f\"Accuracy: {accuracy:.2f}\")\n",
    "\n",
    "# Display classification report\n",
    "print(\"Classification Report:\")\n",
    "print(classification_report(y_test, y_pred))\n"
   ]
  },
  {
   "cell_type": "markdown",
   "id": "5ccfeecc",
   "metadata": {},
   "source": [
    "Note: Support is not a metric but simply a count of samples for each class. It helps understand the class distribution in the dataset."
   ]
  },
  {
   "cell_type": "markdown",
   "id": "6c1de2c9",
   "metadata": {},
   "source": [
    "## Visualizing the Results\n",
    "Visualize the confusion matrix to better understand the model's performance."
   ]
  },
  {
   "cell_type": "code",
   "execution_count": 23,
   "id": "4e00f56c",
   "metadata": {},
   "outputs": [
    {
     "data": {
      "image/png": "[encoded data removed]",
      "text/plain": [
       "<Figure size 640x480 with 2 Axes>"
      ]
     },
     "metadata": {},
     "output_type": "display_data"
    }
   ],
   "source": [
    "\n",
    "from sklearn.metrics import confusion_matrix, ConfusionMatrixDisplay\n",
    "\n",
    "# Generate the confusion matrix\n",
    "cm = confusion_matrix(y_test, y_pred)\n",
    "\n",
    "# Display the confusion matrix\n",
    "disp = ConfusionMatrixDisplay(confusion_matrix=cm, display_labels=model.classes_)\n",
    "disp.plot(cmap='Blues')\n",
    "plt.show()\n"
   ]
  },
  {
   "cell_type": "markdown",
   "id": "61102fe3",
   "metadata": {},
   "source": [
    "True Positive (TP): 4\n",
    "\n",
    "True Negative (TN): 9\n",
    "\n",
    "False Positive (FP): 0\n",
    "\n",
    "False Negative (FN): 0"
   ]
  },
  {
   "cell_type": "markdown",
   "id": "ebca5354",
   "metadata": {},
   "source": [
    "## Building the Random Forest model\n",
    "We will do a comparation between the Logistic Regression and the Rando Forest\n"
   ]
  },
  {
   "cell_type": "code",
   "execution_count": 24,
   "id": "2dec0938",
   "metadata": {},
   "outputs": [],
   "source": [
    "# Import the RandomForestClassifier from sklearn\n",
    "from sklearn.ensemble import RandomForestClassifier\n",
    "from sklearn.metrics import accuracy_score, classification_report, confusion_matrix, ConfusionMatrixDisplay\n",
    "\n",
    "# Create a Random Forest Classifier\n",
    "rf_model = RandomForestClassifier(n_estimators=100, random_state=42)\n",
    "\n",
    "# Train the model on the training data\n",
    "rf_model.fit(X_train, y_train)\n",
    "\n",
    "# Make predictions on the test set\n",
    "y_pred_rf = rf_model.predict(X_test)"
   ]
  },
  {
   "cell_type": "markdown",
   "id": "a2516f5f",
   "metadata": {},
   "source": [
    "## Evaluating the Model\n",
    "Evaluate the model's performance using metrics such as accuracy, precision, and recall."
   ]
  },
  {
   "cell_type": "code",
   "execution_count": 25,
   "id": "190dac35",
   "metadata": {},
   "outputs": [
    {
     "name": "stdout",
     "output_type": "stream",
     "text": [
      "Random Forest Accuracy: 0.92\n",
      "Random Forest Classification Report:\n",
      "              precision    recall  f1-score   support\n",
      "\n",
      "       False       1.00      0.89      0.94         9\n",
      "        True       0.80      1.00      0.89         4\n",
      "\n",
      "    accuracy                           0.92        13\n",
      "   macro avg       0.90      0.94      0.92        13\n",
      "weighted avg       0.94      0.92      0.93        13\n",
      "\n"
     ]
    },
    {
     "data": {
      "image/png": "[encoded data removed]",
      "text/plain": [
       "<Figure size 640x480 with 2 Axes>"
      ]
     },
     "metadata": {},
     "output_type": "display_data"
    }
   ],
   "source": [
    "# Calculate accuracy\n",
    "accuracy_rf = accuracy_score(y_test, y_pred_rf)\n",
    "print(f\"Random Forest Accuracy: {accuracy_rf:.2f}\")\n",
    "\n",
    "# Display classification report\n",
    "print(\"Random Forest Classification Report:\")\n",
    "print(classification_report(y_test, y_pred_rf))\n",
    "\n",
    "# Generate the confusion matrix\n",
    "cm_rf = confusion_matrix(y_test, y_pred_rf)\n",
    "\n",
    "# Display the confusion matrix\n",
    "disp_rf = ConfusionMatrixDisplay(confusion_matrix=cm_rf, display_labels=rf_model.classes_)\n",
    "disp_rf.plot(cmap='Blues')\n",
    "plt.show()"
   ]
  },
  {
   "cell_type": "markdown",
   "id": "0afbfcc8",
   "metadata": {},
   "source": [
    "True Positive (TP): 4\n",
    "\n",
    "True Negative (TN): 8\n",
    "\n",
    "False Positive (FP): 1\n",
    "\n",
    "False Negative (FN): 0"
   ]
  },
  {
   "cell_type": "markdown",
   "id": "7d18e40e",
   "metadata": {},
   "source": [
    "## Performance Comparison: Logistic Regression vs. Random Forest"
   ]
  },
  {
   "cell_type": "markdown",
   "id": "391104e9",
   "metadata": {},
   "source": [
    "Accuracy: Logistic Regression performed slightly better, achieving 100% accuracy, while Random Forest achieved 92% accuracy.\n",
    "\n",
    "Precision: Logistic Regression had perfect precision for both True and False classes, while Random Forest was slightly lower for the True class (80%).\n",
    "\n",
    "Recall: Logistic Regression had perfect recall (1.00) for all classes, but Random Forest had a recall of 0.89 for False and 1.00 for True.\n",
    "\n",
    "F1-Score: Logistic Regression maintained perfect F1-scores for both classes, while Random Forest had a slightly lower F1-score for the True class (0.89).\n",
    "\n",
    "Summary:\n",
    "Logistic Regression outperformed Random Forest in all metrics for this dataset.\n",
    "Random Forest still performed well, but it struggled slightly in predicting the False class compared to Logistic Regression's perfect performance."
   ]
  },
  {
   "cell_type": "markdown",
   "id": "c418b0d8",
   "metadata": {},
   "source": [
    "### Why Logistic Regression Outperformed Random Forest\n",
    "Clear Linear Relationships: The data likely follows a linear pattern, which aligns well with Logistic Regression's strengths.\n",
    "Imbalanced Dataset: Logistic Regression handles imbalanced data better by predicting probabilities directly, while Random Forest can struggle.\n",
    "\n",
    "Simple Data Patterns: The dataset is small and has straightforward relationships, favoring Logistic Regression over more complex models like Random Forest.\n",
    "\n",
    "Regularization: Logistic Regression uses built-in regularization to prevent overfitting, which helps in small datasets.\n",
    "\n",
    "Small Dataset Size: Logistic Regression requires less data to train effectively, whereas Random Forest needs more data to optimize its multiple decision trees."
   ]
  }
 ],
 "metadata": {
  "kernelspec": {
   "display_name": "base",
   "language": "python",
   "name": "python3"
  },
  "language_info": {
   "codemirror_mode": {
    "name": "ipython",
    "version": 3
   },
   "file_extension": ".py",
   "mimetype": "text/x-python",
   "name": "python",
   "nbconvert_exporter": "python",
   "pygments_lexer": "ipython3",
   "version": "3.11.7"
  }
 },
 "nbformat": 4,
 "nbformat_minor": 5
}
