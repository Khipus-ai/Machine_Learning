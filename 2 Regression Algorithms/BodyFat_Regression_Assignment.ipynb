{
 "cells": [
  {
   "cell_type": "markdown",
   "id": "b4e8acac",
   "metadata": {},
   "source": [
    "# Khipus.ai\n",
    "## Introduction to Machine Learning\n",
    "### Supervised Learning - Linear Regression\n",
    "<span>© Copyright Notice 2025, Khipus.ai - All Rights Reserved.</span>\n",
    "\n",
    "### Body Fat Prediction Assignment\n",
    "### Name :(Please Enter Your Name Before Submitting)\n"
   ]
  },
  {
   "cell_type": "markdown",
   "id": "b8a61687",
   "metadata": {},
   "source": [
    "## Assignment Instructions\n",
    "Using the Body Fat dataset provided:\n",
    "1. Import the bodyfat.csv file into a pandas dataframe\n",
    "2. Perform a detailed data exploration.\n",
    "3. Clean the dataset by addressing missing values.\n",
    "4. Select relevant features for predicting body fat percentage.\n",
    "5. Split the dataset into training and testing sets (80%-20% split).\n",
    "6. Use a linear regression model to predict body fat percentage.\n",
    "7. Evaluate the model performance using appropriate metrics."
   ]
  },
  {
   "cell_type": "markdown",
   "id": "2e46af80",
   "metadata": {},
   "source": [
    "## 1. Import the Body Fat Dataset"
   ]
  },
  {
   "cell_type": "code",
   "execution_count": 1,
   "id": "9399600f",
   "metadata": {},
   "outputs": [],
   "source": [
    "# Import necessary libraries\n",
    "import pandas as pd\n",
    "import numpy as np\n",
    "import matplotlib.pyplot as plt\n",
    "import seaborn as sns\n",
    "from sklearn.model_selection import train_test_split\n",
    "from sklearn.linear_model import LinearRegression\n",
    "from sklearn.metrics import mean_squared_error, r2_score\n",
    "from sklearn.impute import SimpleImputer"
   ]
  },
  {
   "cell_type": "code",
   "execution_count": 2,
   "id": "949ba8fb",
   "metadata": {},
   "outputs": [
    {
     "name": "stdout",
     "output_type": "stream",
     "text": [
      "Dataset loaded successfully!\n",
      "Dataset shape: (252, 15)\n"
     ]
    }
   ],
   "source": [
    "# Load the Body Fat dataset\n",
    "df = pd.read_csv('bodyfat.csv')\n",
    "print(\"Dataset loaded successfully!\")\n",
    "print(f\"Dataset shape: {df.shape}\")"
   ]
  },
  {
   "cell_type": "markdown",
   "id": "0ccb0080",
   "metadata": {},
   "source": [
    "## 2. Data Exploration\n",
    "Before working with the dataset, it's important to understand its structure, data types, and summary statistics. Let's explore the body fat data.\n"
   ]
  },
  {
   "cell_type": "code",
   "execution_count": 3,
   "id": "46a81006",
   "metadata": {},
   "outputs": [
    {
     "name": "stdout",
     "output_type": "stream",
     "text": [
      "First 5 rows of the dataset:\n",
      "   Density  BodyFat  Age  Weight  Height  Neck  Chest  Abdomen    Hip  Thigh  \\\n",
      "0   1.0708     12.3   23  154.25   67.75  36.2   93.1     85.2   94.5   59.0   \n",
      "1   1.0853      6.1   22  173.25   72.25  38.5   93.6     83.0   98.7   58.7   \n",
      "2   1.0414     25.3   22  154.00   66.25  34.0   95.8     87.9   99.2   59.6   \n",
      "3   1.0751     10.4   26  184.75   72.25  37.4  101.8     86.4  101.2   60.1   \n",
      "4   1.0340     28.7   24  184.25   71.25  34.4   97.3    100.0  101.9   63.2   \n",
      "\n",
      "   Knee  Ankle  Biceps  Forearm  Wrist  \n",
      "0  37.3   21.9    32.0     27.4   17.1  \n",
      "1  37.3   23.4    30.5     28.9   18.2  \n",
      "2  38.9   24.0    28.8     25.2   16.6  \n",
      "3  37.3   22.8    32.4     29.4   18.2  \n",
      "4  42.2   24.0    32.2     27.7   17.7  \n"
     ]
    }
   ],
   "source": [
    "# Display the first few rows of the dataset\n",
    "print(\"First 5 rows of the dataset:\")\n",
    "print(df.head())"
   ]
  },
  {
   "cell_type": "code",
   "execution_count": 4,
   "id": "a391fb68",
   "metadata": {},
   "outputs": [
    {
     "name": "stdout",
     "output_type": "stream",
     "text": [
      "Dataset Info:\n",
      "<class 'pandas.core.frame.DataFrame'>\n",
      "RangeIndex: 252 entries, 0 to 251\n",
      "Data columns (total 15 columns):\n",
      " #   Column   Non-Null Count  Dtype  \n",
      "---  ------   --------------  -----  \n",
      " 0   Density  252 non-null    float64\n",
      " 1   BodyFat  252 non-null    float64\n",
      " 2   Age      252 non-null    int64  \n",
      " 3   Weight   252 non-null    float64\n",
      " 4   Height   252 non-null    float64\n",
      " 5   Neck     252 non-null    float64\n",
      " 6   Chest    252 non-null    float64\n",
      " 7   Abdomen  252 non-null    float64\n",
      " 8   Hip      252 non-null    float64\n",
      " 9   Thigh    252 non-null    float64\n",
      " 10  Knee     252 non-null    float64\n",
      " 11  Ankle    252 non-null    float64\n",
      " 12  Biceps   252 non-null    float64\n",
      " 13  Forearm  252 non-null    float64\n",
      " 14  Wrist    252 non-null    float64\n",
      "dtypes: float64(14), int64(1)\n",
      "memory usage: 29.7 KB\n",
      "None\n",
      "\n",
      "Column names:\n",
      "['Density', 'BodyFat', 'Age', 'Weight', 'Height', 'Neck', 'Chest', 'Abdomen', 'Hip', 'Thigh', 'Knee', 'Ankle', 'Biceps', 'Forearm', 'Wrist']\n"
     ]
    }
   ],
   "source": [
    "# Display basic information about the dataset\n",
    "print(\"Dataset Info:\")\n",
    "print(df.info())\n",
    "print(\"\\nColumn names:\")\n",
    "print(df.columns.tolist())"
   ]
  },
  {
   "cell_type": "code",
   "execution_count": 5,
   "id": "965ae400",
   "metadata": {},
   "outputs": [
    {
     "name": "stdout",
     "output_type": "stream",
     "text": [
      "Summary Statistics:\n",
      "          Density     BodyFat         Age      Weight      Height        Neck  \\\n",
      "count  252.000000  252.000000  252.000000  252.000000  252.000000  252.000000   \n",
      "mean     1.055574   19.150794   44.884921  178.924405   70.148810   37.992063   \n",
      "std      0.019031    8.368740   12.602040   29.389160    3.662856    2.430913   \n",
      "min      0.995000    0.000000   22.000000  118.500000   29.500000   31.100000   \n",
      "25%      1.041400   12.475000   35.750000  159.000000   68.250000   36.400000   \n",
      "50%      1.054900   19.200000   43.000000  176.500000   70.000000   38.000000   \n",
      "75%      1.070400   25.300000   54.000000  197.000000   72.250000   39.425000   \n",
      "max      1.108900   47.500000   81.000000  363.150000   77.750000   51.200000   \n",
      "\n",
      "            Chest     Abdomen         Hip       Thigh        Knee       Ankle  \\\n",
      "count  252.000000  252.000000  252.000000  252.000000  252.000000  252.000000   \n",
      "mean   100.824206   92.555952   99.904762   59.405952   38.590476   23.102381   \n",
      "std      8.430476   10.783077    7.164058    5.249952    2.411805    1.694893   \n",
      "min     79.300000   69.400000   85.000000   47.200000   33.000000   19.100000   \n",
      "25%     94.350000   84.575000   95.500000   56.000000   36.975000   22.000000   \n",
      "50%     99.650000   90.950000   99.300000   59.000000   38.500000   22.800000   \n",
      "75%    105.375000   99.325000  103.525000   62.350000   39.925000   24.000000   \n",
      "max    136.200000  148.100000  147.700000   87.300000   49.100000   33.900000   \n",
      "\n",
      "           Biceps     Forearm       Wrist  \n",
      "count  252.000000  252.000000  252.000000  \n",
      "mean    32.273413   28.663889   18.229762  \n",
      "std      3.021274    2.020691    0.933585  \n",
      "min     24.800000   21.000000   15.800000  \n",
      "25%     30.200000   27.300000   17.600000  \n",
      "50%     32.050000   28.700000   18.300000  \n",
      "75%     34.325000   30.000000   18.800000  \n",
      "max     45.000000   34.900000   21.400000  \n"
     ]
    }
   ],
   "source": [
    "# Display summary statistics\n",
    "print(\"Summary Statistics:\")\n",
    "print(df.describe())"
   ]
  },
  {
   "cell_type": "code",
   "execution_count": 6,
   "id": "3ccbe8ee",
   "metadata": {},
   "outputs": [
    {
     "name": "stdout",
     "output_type": "stream",
     "text": [
      "Missing values in each column:\n",
      "Density    0\n",
      "BodyFat    0\n",
      "Age        0\n",
      "Weight     0\n",
      "Height     0\n",
      "Neck       0\n",
      "Chest      0\n",
      "Abdomen    0\n",
      "Hip        0\n",
      "Thigh      0\n",
      "Knee       0\n",
      "Ankle      0\n",
      "Biceps     0\n",
      "Forearm    0\n",
      "Wrist      0\n",
      "dtype: int64\n",
      "\n",
      "Total missing values: 0\n"
     ]
    }
   ],
   "source": [
    "# Check for missing values\n",
    "print(\"Missing values in each column:\")\n",
    "print(df.isnull().sum())\n",
    "print(f\"\\nTotal missing values: {df.isnull().sum().sum()}\")"
   ]
  },
  {
   "cell_type": "markdown",
   "id": "73cce815",
   "metadata": {},
   "source": [
    "## 3. Data Cleaning\n",
    "Real-world datasets often contain missing values, duplicate rows, or incorrect data. Let's clean our data to ensure quality for analysis.\n"
   ]
  },
  {
   "cell_type": "code",
   "execution_count": 7,
   "id": "95a7865d",
   "metadata": {},
   "outputs": [
    {
     "name": "stdout",
     "output_type": "stream",
     "text": [
      "Number of duplicate rows: 0\n"
     ]
    }
   ],
   "source": [
    "# Check for duplicates\n",
    "print(f\"Number of duplicate rows: {df.duplicated().sum()}\")\n",
    "\n"
   ]
  },
  {
   "cell_type": "markdown",
   "id": "7dc7b286",
   "metadata": {},
   "source": [
    "## 4. Feature Selection \n",
    "To build an effective machine learning model, selecting relevant features is crucial. \n",
    "Let's select relevant features for predicting body fat percentage.\n"
   ]
  },
  {
   "cell_type": "code",
   "execution_count": 8,
   "id": "3b271ed1",
   "metadata": {},
   "outputs": [],
   "source": [
    "# Select features based on correlation and domain knowledge\n",
    "# We'll use multiple features that show good correlation with body fat\n",
    "#selected_features = ['Abdomen', 'Weight', 'Chest', 'Hip', 'Thigh', 'Neck', 'Age']\n",
    "selected_features = ['Abdomen', 'Weight', 'Chest', 'Hip', 'Thigh', 'Neck', 'Age']\n",
    "\n",
    "# Select the features from the DataFrame\n",
    "X = df[selected_features]\n",
    "\n",
    "# Select the target variable from the DataFrame\n",
    "y = df['BodyFat']"
   ]
  },
  {
   "cell_type": "markdown",
   "id": "36ed9340",
   "metadata": {},
   "source": [
    "## 5. Splitting Training and Test Data"
   ]
  },
  {
   "cell_type": "code",
   "execution_count": 9,
   "id": "b445f2d3",
   "metadata": {},
   "outputs": [],
   "source": [
    "# Split into training and test sets (80% training, 20% testing)\n",
    "X_train, X_test, y_train, y_test = train_test_split(\n",
    "    X, y, test_size=0.2, random_state=42\n",
    ")"
   ]
  },
  {
   "cell_type": "markdown",
   "id": "84ee1eba",
   "metadata": {},
   "source": [
    "## 6. Use Linear Regression Model to Predict Body Fat Percentage"
   ]
  },
  {
   "cell_type": "markdown",
   "id": "975ee3e8",
   "metadata": {},
   "source": [
    "### Train the Linear Regression Model\n",
    "We will train a linear regression model using the training data to predict body fat percentage."
   ]
  },
  {
   "cell_type": "code",
   "execution_count": 10,
   "id": "7ab6db44",
   "metadata": {},
   "outputs": [
    {
     "data": {
      "text/html": [
       "<style>#sk-container-id-1 {color: black;background-color: white;}#sk-container-id-1 pre{padding: 0;}#sk-container-id-1 div.sk-toggleable {background-color: white;}#sk-container-id-1 label.sk-toggleable__label {cursor: pointer;display: block;width: 100%;margin-bottom: 0;padding: 0.3em;box-sizing: border-box;text-align: center;}#sk-container-id-1 label.sk-toggleable__label-arrow:before {content: \"▸\";float: left;margin-right: 0.25em;color: #696969;}#sk-container-id-1 label.sk-toggleable__label-arrow:hover:before {color: black;}#sk-container-id-1 div.sk-estimator:hover label.sk-toggleable__label-arrow:before {color: black;}#sk-container-id-1 div.sk-toggleable__content {max-height: 0;max-width: 0;overflow: hidden;text-align: left;background-color: #f0f8ff;}#sk-container-id-1 div.sk-toggleable__content pre {margin: 0.2em;color: black;border-radius: 0.25em;background-color: #f0f8ff;}#sk-container-id-1 input.sk-toggleable__control:checked~div.sk-toggleable__content {max-height: 200px;max-width: 100%;overflow: auto;}#sk-container-id-1 input.sk-toggleable__control:checked~label.sk-toggleable__label-arrow:before {content: \"▾\";}#sk-container-id-1 div.sk-estimator input.sk-toggleable__control:checked~label.sk-toggleable__label {background-color: #d4ebff;}#sk-container-id-1 div.sk-label input.sk-toggleable__control:checked~label.sk-toggleable__label {background-color: #d4ebff;}#sk-container-id-1 input.sk-hidden--visually {border: 0;clip: rect(1px 1px 1px 1px);clip: rect(1px, 1px, 1px, 1px);height: 1px;margin: -1px;overflow: hidden;padding: 0;position: absolute;width: 1px;}#sk-container-id-1 div.sk-estimator {font-family: monospace;background-color: #f0f8ff;border: 1px dotted black;border-radius: 0.25em;box-sizing: border-box;margin-bottom: 0.5em;}#sk-container-id-1 div.sk-estimator:hover {background-color: #d4ebff;}#sk-container-id-1 div.sk-parallel-item::after {content: \"\";width: 100%;border-bottom: 1px solid gray;flex-grow: 1;}#sk-container-id-1 div.sk-label:hover label.sk-toggleable__label {background-color: #d4ebff;}#sk-container-id-1 div.sk-serial::before {content: \"\";position: absolute;border-left: 1px solid gray;box-sizing: border-box;top: 0;bottom: 0;left: 50%;z-index: 0;}#sk-container-id-1 div.sk-serial {display: flex;flex-direction: column;align-items: center;background-color: white;padding-right: 0.2em;padding-left: 0.2em;position: relative;}#sk-container-id-1 div.sk-item {position: relative;z-index: 1;}#sk-container-id-1 div.sk-parallel {display: flex;align-items: stretch;justify-content: center;background-color: white;position: relative;}#sk-container-id-1 div.sk-item::before, #sk-container-id-1 div.sk-parallel-item::before {content: \"\";position: absolute;border-left: 1px solid gray;box-sizing: border-box;top: 0;bottom: 0;left: 50%;z-index: -1;}#sk-container-id-1 div.sk-parallel-item {display: flex;flex-direction: column;z-index: 1;position: relative;background-color: white;}#sk-container-id-1 div.sk-parallel-item:first-child::after {align-self: flex-end;width: 50%;}#sk-container-id-1 div.sk-parallel-item:last-child::after {align-self: flex-start;width: 50%;}#sk-container-id-1 div.sk-parallel-item:only-child::after {width: 0;}#sk-container-id-1 div.sk-dashed-wrapped {border: 1px dashed gray;margin: 0 0.4em 0.5em 0.4em;box-sizing: border-box;padding-bottom: 0.4em;background-color: white;}#sk-container-id-1 div.sk-label label {font-family: monospace;font-weight: bold;display: inline-block;line-height: 1.2em;}#sk-container-id-1 div.sk-label-container {text-align: center;}#sk-container-id-1 div.sk-container {/* jupyter's `normalize.less` sets `[hidden] { display: none; }` but bootstrap.min.css set `[hidden] { display: none !important; }` so we also need the `!important` here to be able to override the default hidden behavior on the sphinx rendered scikit-learn.org. See: https://github.com/scikit-learn/scikit-learn/issues/21755 */display: inline-block !important;position: relative;}#sk-container-id-1 div.sk-text-repr-fallback {display: none;}</style><div id=\"sk-container-id-1\" class=\"sk-top-container\"><div class=\"sk-text-repr-fallback\"><pre>LinearRegression()</pre><b>In a Jupyter environment, please rerun this cell to show the HTML representation or trust the notebook. <br />On GitHub, the HTML representation is unable to render, please try loading this page with nbviewer.org.</b></div><div class=\"sk-container\" hidden><div class=\"sk-item\"><div class=\"sk-estimator sk-toggleable\"><input class=\"sk-toggleable__control sk-hidden--visually\" id=\"sk-estimator-id-1\" type=\"checkbox\" checked><label for=\"sk-estimator-id-1\" class=\"sk-toggleable__label sk-toggleable__label-arrow\">LinearRegression</label><div class=\"sk-toggleable__content\"><pre>LinearRegression()</pre></div></div></div></div></div>"
      ],
      "text/plain": [
       "LinearRegression()"
      ]
     },
     "execution_count": 10,
     "metadata": {},
     "output_type": "execute_result"
    }
   ],
   "source": [
    "# Initialize the Linear Regression model\n",
    "model = LinearRegression()\n",
    "\n",
    "# Train the model on the training data\n",
    "model.fit(X_train, y_train)\n"
   ]
  },
  {
   "cell_type": "markdown",
   "id": "71ba3489",
   "metadata": {},
   "source": [
    "### Evaluate the Model\n",
    "We'll calculate various metrics to evaluate the model performance."
   ]
  },
  {
   "cell_type": "code",
   "execution_count": 11,
   "id": "684c6ce0",
   "metadata": {},
   "outputs": [
    {
     "name": "stdout",
     "output_type": "stream",
     "text": [
      "Mean Squared Error: 17.035582481596958\n",
      "Root Mean Squared Error: 4.1274183797619735\n",
      "R² Score: 0.6337856989455327\n"
     ]
    }
   ],
   "source": [
    "\n",
    "# Make predictions\n",
    "y_pred = model.predict(X_test)\n",
    "\n",
    "# Evaluate the model\n",
    "mse = mean_squared_error(y_test, y_pred)\n",
    "rmse = np.sqrt(mse)\n",
    "r2 = r2_score(y_test, y_pred)\n",
    "print(f'Mean Squared Error: {mse}')\n",
    "print(f'Root Mean Squared Error: {rmse}')\n",
    "print(f'R² Score: {r2}')"
   ]
  },
  {
   "cell_type": "markdown",
   "id": "89cfa865",
   "metadata": {},
   "source": [
    "## 7. Model Interpretation and Conclusions"
   ]
  },
  {
   "cell_type": "code",
   "execution_count": 13,
   "id": "c881ab59",
   "metadata": {},
   "outputs": [
    {
     "name": "stdout",
     "output_type": "stream",
     "text": [
      "Sample Predictions:\n",
      "--------------------------------------------------\n",
      "Sample 1:\n",
      "  Actual Body Fat: 19.20%\n",
      "  Predicted Body Fat: 16.94%\n",
      "  Difference: 2.26%\n",
      "\n",
      "Sample 2:\n",
      "  Actual Body Fat: 19.20%\n",
      "  Predicted Body Fat: 16.51%\n",
      "  Difference: 2.69%\n",
      "\n",
      "Sample 3:\n",
      "  Actual Body Fat: 28.00%\n",
      "  Predicted Body Fat: 31.80%\n",
      "  Difference: 3.80%\n",
      "\n",
      "Sample 4:\n",
      "  Actual Body Fat: 20.50%\n",
      "  Predicted Body Fat: 16.44%\n",
      "  Difference: 4.06%\n",
      "\n",
      "Sample 5:\n",
      "  Actual Body Fat: 16.70%\n",
      "  Predicted Body Fat: 16.34%\n",
      "  Difference: 0.36%\n",
      "\n"
     ]
    }
   ],
   "source": [
    "# Make sample predictions to demonstrate the model\n",
    "print(\"Sample Predictions:\")\n",
    "print(\"-\" * 50)\n",
    "for i in range(5):\n",
    "    actual = y_test.iloc[i]\n",
    "    predicted = y_pred[i]\n",
    "    print(f\"Sample {i+1}:\")\n",
    "    print(f\"  Actual Body Fat: {actual:.2f}%\")\n",
    "    print(f\"  Predicted Body Fat: {predicted:.2f}%\")\n",
    "    print(f\"  Difference: {abs(actual - predicted):.2f}%\")\n",
    "    print()"
   ]
  },
  {
   "cell_type": "markdown",
   "id": "4afc38aa",
   "metadata": {},
   "source": [
    "### Summary\n",
    "Based on our linear regression analysis:\n",
    "\n",
    "1. **Model Performance**: Our model achieved an R² score of approximately [insert your R² value] on the test set, indicating that it explains [percentage]% of the variance in body fat percentage.\n",
    "\n",
    "2. **Key Features**: The most important features for predicting body fat appear to be [based on your coefficient analysis].\n",
    "\n",
    "3. **Model Accuracy**: The Root Mean Square Error (RMSE) of [insert RMSE value]% suggests that our predictions are typically within this range of the actual body fat percentage.\n",
    "\n",
    "4. **Practical Applications**: This model could be useful for fitness professionals and healthcare providers to estimate body fat percentage using easily measurable body dimensions.\n",
    "\n",
    "**Next Steps**: To improve the model, we could:\n",
    "- Try polynomial features\n",
    "- Use regularization techniques (Ridge, Lasso)\n",
    "- Explore other algorithms like Random Forest\n",
    "- Collect more data"
   ]
  }
 ],
 "metadata": {
  "kernelspec": {
   "display_name": "base",
   "language": "python",
   "name": "python3"
  },
  "language_info": {
   "codemirror_mode": {
    "name": "ipython",
    "version": 3
   },
   "file_extension": ".py",
   "mimetype": "text/x-python",
   "name": "python",
   "nbconvert_exporter": "python",
   "pygments_lexer": "ipython3",
   "version": "3.11.7"
  }
 },
 "nbformat": 4,
 "nbformat_minor": 5
}
