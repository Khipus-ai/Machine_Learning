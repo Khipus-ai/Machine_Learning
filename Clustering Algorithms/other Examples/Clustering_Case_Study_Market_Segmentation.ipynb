{
 "cells": [
  {
   "cell_type": "markdown",
   "id": "32e2ac68",
   "metadata": {},
   "source": [
    "# Khipus.ai\n",
    "## Unsupervised Learning\n",
    "### Clustering Algorithms\n",
    "### Case Study: Market Segmentation\n",
    "\n",
    "<span>© Copyright Notice 2025, Khipus.ai - All Rights Reserved.</span>\n"
   ]
  },
  {
   "cell_type": "markdown",
   "id": "18f69a22",
   "metadata": {},
   "source": [
    "## Import the relevant libraries"
   ]
  },
  {
   "cell_type": "code",
   "execution_count": null,
   "id": "82272c2a",
   "metadata": {},
   "outputs": [],
   "source": [
    "# Importing necessary libraries\n",
    "import pandas as pd\n",
    "import numpy as np\n",
    "import matplotlib.pyplot as plt\n",
    "from sklearn.cluster import KMeans\n",
    "from sklearn.preprocessing import StandardScaler\n"
   ]
  },
  {
   "cell_type": "markdown",
   "id": "3302dc94",
   "metadata": {},
   "source": [
    "## Load the data"
   ]
  },
  {
   "cell_type": "code",
   "execution_count": null,
   "id": "bdbabdb7",
   "metadata": {},
   "outputs": [],
   "source": [
    "# Load the dataset\n",
    "file_path = '/mnt/data/customer_feedback_satisfaction.csv'\n",
    "data = pd.read_csv(file_path)\n",
    "\n",
    "# Display the first few rows\n",
    "data.head()"
   ]
  },
  {
   "cell_type": "markdown",
   "id": "b83aeaf0",
   "metadata": {},
   "source": [
    "## Plot the data (Y = LoyaltyLevel, X = SatisfactionScore)"
   ]
  },
  {
   "cell_type": "code",
   "execution_count": null,
   "id": "298724d1",
   "metadata": {},
   "outputs": [],
   "source": [
    "# Plotting Satisfaction Score vs Loyalty Level\n",
    "import seaborn as sns\n",
    "sns.scatterplot(x=data['SatisfactionScore'], y=data['LoyaltyLevel'])\n",
    "plt.title(\"Satisfaction Score vs Loyalty Level\")\n",
    "plt.xlabel(\"Satisfaction Score\")\n",
    "plt.ylabel(\"Loyalty Level\")\n",
    "plt.show()"
   ]
  },
  {
   "cell_type": "markdown",
   "id": "596a85c8",
   "metadata": {},
   "source": [
    "## Select the features"
   ]
  },
  {
   "cell_type": "code",
   "execution_count": null,
   "id": "1afa4fd1",
   "metadata": {},
   "outputs": [],
   "source": [
    "# Selecting features for clustering\n",
    "features = data[['SatisfactionScore', 'ServiceQuality']]\n",
    "features.head()"
   ]
  },
  {
   "cell_type": "markdown",
   "id": "ef2c4a55",
   "metadata": {},
   "source": [
    "## Clustering analysis"
   ]
  },
  {
   "cell_type": "code",
   "execution_count": null,
   "id": "ca817c48",
   "metadata": {},
   "outputs": [],
   "source": [
    "# Performing clustering\n",
    "kmeans = KMeans(n_clusters=3, random_state=42)\n",
    "kmeans.fit(features)\n",
    "\n",
    "# Adding the cluster labels to the dataset\n",
    "data['Cluster'] = kmeans.labels_\n",
    "data.head()"
   ]
  },
  {
   "cell_type": "markdown",
   "id": "27d31e0c",
   "metadata": {},
   "source": [
    "## Clustering results"
   ]
  },
  {
   "cell_type": "code",
   "execution_count": null,
   "id": "30adb22c",
   "metadata": {},
   "outputs": [],
   "source": [
    "# Plotting the clustering results\n",
    "plt.scatter(features['SatisfactionScore'], features['ServiceQuality'], c=data['Cluster'], cmap='viridis')\n",
    "plt.title(\"Clustering Results\")\n",
    "plt.xlabel(\"Satisfaction Score\")\n",
    "plt.ylabel(\"Service Quality\")\n",
    "plt.show()"
   ]
  },
  {
   "cell_type": "markdown",
   "id": "de63cfe5",
   "metadata": {},
   "source": [
    "## Standardize the variables"
   ]
  },
  {
   "cell_type": "code",
   "execution_count": null,
   "id": "b1a2ae6b",
   "metadata": {},
   "outputs": [],
   "source": [
    "# Standardizing the variables\n",
    "scaler = StandardScaler()\n",
    "features_scaled = scaler.fit_transform(features)\n",
    "\n",
    "features_scaled[:5]"
   ]
  },
  {
   "cell_type": "markdown",
   "id": "9c006b22",
   "metadata": {},
   "source": [
    "## Use the Elbow method"
   ]
  },
  {
   "cell_type": "code",
   "execution_count": null,
   "id": "e96040a6",
   "metadata": {},
   "outputs": [],
   "source": [
    "# Using the Elbow Method to find the optimal number of clusters\n",
    "inertia = []\n",
    "range_n_clusters = range(1, 10)\n",
    "\n",
    "for n in range_n_clusters:\n",
    "    kmeans = KMeans(n_clusters=n, random_state=42)\n",
    "    kmeans.fit(features_scaled)\n",
    "    inertia.append(kmeans.inertia_)\n",
    "\n",
    "plt.plot(range_n_clusters, inertia, marker='o')\n",
    "plt.title(\"Elbow Method\")\n",
    "plt.xlabel(\"Number of Clusters\")\n",
    "plt.ylabel(\"Inertia\")\n",
    "plt.show()"
   ]
  },
  {
   "cell_type": "markdown",
   "id": "c501e7f8",
   "metadata": {},
   "source": [
    "## Explore clustering solutions and select the number of clusters"
   ]
  },
  {
   "cell_type": "code",
   "execution_count": null,
   "id": "4866da5c",
   "metadata": {},
   "outputs": [],
   "source": [
    "# Final clustering with the optimal number of clusters (e.g., 3 from the Elbow Method)\n",
    "optimal_clusters = 3\n",
    "kmeans = KMeans(n_clusters=optimal_clusters, random_state=42)\n",
    "kmeans.fit(features_scaled)\n",
    "\n",
    "# Adding the cluster labels to the dataset\n",
    "data['Cluster_Optimized'] = kmeans.labels_\n",
    "\n",
    "# Visualizing the final clustering solution\n",
    "plt.scatter(features_scaled[:, 0], features_scaled[:, 1], c=data['Cluster_Optimized'], cmap='viridis')\n",
    "plt.title(\"Optimized Clustering Results\")\n",
    "plt.xlabel(\"Scaled Satisfaction Score\")\n",
    "plt.ylabel(\"Scaled Service Quality\")\n",
    "plt.show()"
   ]
  }
 ],
 "metadata": {},
 "nbformat": 4,
 "nbformat_minor": 5
}
